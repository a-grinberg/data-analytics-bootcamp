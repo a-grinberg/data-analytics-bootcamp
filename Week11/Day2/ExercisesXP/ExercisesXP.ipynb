{
  "nbformat": 4,
  "nbformat_minor": 0,
  "metadata": {
    "colab": {
      "provenance": []
    },
    "kernelspec": {
      "name": "python3",
      "display_name": "Python 3"
    },
    "language_info": {
      "name": "python"
    }
  },
  "cells": [
    {
      "cell_type": "code",
      "source": [
        "import numpy as np"
      ],
      "metadata": {
        "id": "dT0oDCkBqgE3"
      },
      "execution_count": 3,
      "outputs": []
    },
    {
      "cell_type": "markdown",
      "source": [
        "## Exercise 1 : Array Creation And Manipulation"
      ],
      "metadata": {
        "id": "COX97n1co_bH"
      }
    },
    {
      "cell_type": "markdown",
      "source": [],
      "metadata": {
        "id": "YXlVaWlIpH1R"
      }
    },
    {
      "cell_type": "markdown",
      "source": [
        "\n",
        "Instructions\n",
        "Create a 1D NumPy array containing numbers from 0 to 9.\n",
        "\n",
        "Expected Output:\n",
        "\n",
        "\n",
        "\n",
        "array([0, 1, 2, 3, 4, 5, 6, 7, 8, 9])\n",
        "\n"
      ],
      "metadata": {
        "id": "TAsif_L5pEAU"
      }
    },
    {
      "cell_type": "code",
      "source": [
        "np.arange(10)"
      ],
      "metadata": {
        "colab": {
          "base_uri": "https://localhost:8080/"
        },
        "id": "K1ikfKzEqdVQ",
        "outputId": "171e9229-4cfb-4768-b938-9978ae207152"
      },
      "execution_count": 4,
      "outputs": [
        {
          "output_type": "execute_result",
          "data": {
            "text/plain": [
              "array([0, 1, 2, 3, 4, 5, 6, 7, 8, 9])"
            ]
          },
          "metadata": {},
          "execution_count": 4
        }
      ]
    },
    {
      "cell_type": "markdown",
      "source": [
        "## Exercise 2 : Type Conversion And Array Operations"
      ],
      "metadata": {
        "id": "Y9DD66aipG15"
      }
    },
    {
      "cell_type": "markdown",
      "source": [
        "Instructions\n",
        "Convert a list [3.14, 2.17, 0, 1, 2] into a NumPy array and convert its data type to integer.\n",
        "\n",
        "Expected Output:\n",
        "\n",
        "\n",
        "\n",
        "array([3, 2, 0, 1, 2])\n"
      ],
      "metadata": {
        "id": "nwloOYCJpNuX"
      }
    },
    {
      "cell_type": "code",
      "source": [
        "np.array([3.14, 2.17, 0, 1, 2], dtype=int)"
      ],
      "metadata": {
        "colab": {
          "base_uri": "https://localhost:8080/"
        },
        "id": "8Hqs96_Fq5J2",
        "outputId": "e8a4e991-87e7-4b8c-f4dd-8262d1a93cd7"
      },
      "execution_count": 5,
      "outputs": [
        {
          "output_type": "execute_result",
          "data": {
            "text/plain": [
              "array([3, 2, 0, 1, 2])"
            ]
          },
          "metadata": {},
          "execution_count": 5
        }
      ]
    },
    {
      "cell_type": "markdown",
      "source": [
        "## Exercise 3 : Working With Multi-Dimensional Arrays"
      ],
      "metadata": {
        "id": "uMxpBOL-pQjN"
      }
    },
    {
      "cell_type": "markdown",
      "source": [
        "Instructions Create a 3x3 NumPy array with values ranging from 1 to 9.\n",
        "\n",
        "Expected Output:\n",
        "\n",
        "array([[1, 2, 3], [4, 5, 6], [7, 8, 9]])"
      ],
      "metadata": {
        "id": "XxNWObT-pbII"
      }
    },
    {
      "cell_type": "code",
      "source": [
        "arr = np.arange(1, 10)\n",
        "arr.reshape(3, 3)"
      ],
      "metadata": {
        "colab": {
          "base_uri": "https://localhost:8080/"
        },
        "id": "6t6EweWlrAYw",
        "outputId": "f707b864-43b9-4de9-80d3-d5a4959abafb"
      },
      "execution_count": 6,
      "outputs": [
        {
          "output_type": "execute_result",
          "data": {
            "text/plain": [
              "array([[1, 2, 3],\n",
              "       [4, 5, 6],\n",
              "       [7, 8, 9]])"
            ]
          },
          "metadata": {},
          "execution_count": 6
        }
      ]
    },
    {
      "cell_type": "markdown",
      "source": [
        "## Exercise 4 : Creating Multi-Dimensional Array With Random Numbers"
      ],
      "metadata": {
        "id": "29PCWGP1phWP"
      }
    },
    {
      "cell_type": "markdown",
      "source": [
        "Instructions\n",
        "Create a 2D NumPy array of shape (4, 5) filled with random numbers.\n",
        "\n",
        "Expected Output:\n",
        "\n",
        "\n",
        "\n",
        "array([[0.56, 0.85, 0.01, 0.42, 0.68],\n",
        "       [0.22, 0.37, 0.73, 0.93, 0.39],\n",
        "       [0.44, 0.03, 0.87, 0.02, 0.83],\n",
        "       [0.78, 0.87, 0.98, 0.80, 0.46]])"
      ],
      "metadata": {
        "id": "JrSCNW76pknt"
      }
    },
    {
      "cell_type": "code",
      "source": [
        "arr2 = np.random.rand(4, 5)\n",
        "arr2"
      ],
      "metadata": {
        "colab": {
          "base_uri": "https://localhost:8080/"
        },
        "id": "NnYSEaPcrNvG",
        "outputId": "a3524707-be81-4085-cc3e-218b68d6f109"
      },
      "execution_count": 11,
      "outputs": [
        {
          "output_type": "execute_result",
          "data": {
            "text/plain": [
              "array([[0.05246252, 0.2978163 , 0.82608452, 0.30216441, 0.28085263],\n",
              "       [0.43718881, 0.90877596, 0.85988525, 0.64974555, 0.23127507],\n",
              "       [0.31406132, 0.65598829, 0.87076713, 0.74085367, 0.35301917],\n",
              "       [0.50065819, 0.38711576, 0.47265959, 0.89955654, 0.76448601]])"
            ]
          },
          "metadata": {},
          "execution_count": 11
        }
      ]
    },
    {
      "cell_type": "markdown",
      "source": [
        "## Exercise 5 : Indexing Arrays\n"
      ],
      "metadata": {
        "id": "vJtdmaYIppuv"
      }
    },
    {
      "cell_type": "markdown",
      "source": [
        "Instructions\n",
        "Select the second row from a given 2D NumPy array.\n",
        "\n",
        "Expected Output:\n",
        "\n",
        "\n",
        "\n",
        "array([20, 21, 22, 23, 24])"
      ],
      "metadata": {
        "id": "tsg_g1eBptqZ"
      }
    },
    {
      "cell_type": "code",
      "source": [
        "arr2[1]"
      ],
      "metadata": {
        "colab": {
          "base_uri": "https://localhost:8080/"
        },
        "id": "nPDJMg2tr0DQ",
        "outputId": "868e22cb-2c28-4e1c-9e46-038c4c5c5277"
      },
      "execution_count": 14,
      "outputs": [
        {
          "output_type": "execute_result",
          "data": {
            "text/plain": [
              "array([0.43718881, 0.90877596, 0.85988525, 0.64974555, 0.23127507])"
            ]
          },
          "metadata": {},
          "execution_count": 14
        }
      ]
    },
    {
      "cell_type": "markdown",
      "source": [
        "## Exercise 6 : Reversing Elements"
      ],
      "metadata": {
        "id": "gEZW8Kq7p26P"
      }
    },
    {
      "cell_type": "markdown",
      "source": [
        "\n",
        "Instructions\n",
        "Reverse the order of elements in a given 1D NumPy array (first element becomes last).\n",
        "\n",
        "Expected Output:\n",
        "\n",
        "\n",
        "\n",
        "array([9, 8, 7, 6, 5, 4, 3, 2, 1, 0])\n",
        "\n"
      ],
      "metadata": {
        "id": "AP9d188Pp58V"
      }
    },
    {
      "cell_type": "code",
      "source": [
        "arr3 = np.arange(10)\n",
        "arr3[::-1]"
      ],
      "metadata": {
        "colab": {
          "base_uri": "https://localhost:8080/"
        },
        "id": "V143Xb__sqjY",
        "outputId": "62162024-d85b-41a9-918f-e25cf13250ab"
      },
      "execution_count": 15,
      "outputs": [
        {
          "output_type": "execute_result",
          "data": {
            "text/plain": [
              "array([9, 8, 7, 6, 5, 4, 3, 2, 1, 0])"
            ]
          },
          "metadata": {},
          "execution_count": 15
        }
      ]
    },
    {
      "cell_type": "markdown",
      "source": [
        "## Exercise 7 : Identity Matrix"
      ],
      "metadata": {
        "id": "m1SFPXRBp8xN"
      }
    },
    {
      "cell_type": "markdown",
      "source": [
        "Instructions\n",
        "Create a 4x4 identity matrix using NumPy.\n",
        "\n",
        "Expected Output:\n",
        "\n",
        "\n",
        "\n",
        "array([[1., 0., 0., 0.],\n",
        "       [0., 1., 0., 0.],\n",
        "       [0., 0., 1., 0.],\n",
        "       [0., 0., 0., 1.]])"
      ],
      "metadata": {
        "id": "g7rhJYPsqBVC"
      }
    },
    {
      "cell_type": "code",
      "source": [
        "np.eye(4)"
      ],
      "metadata": {
        "colab": {
          "base_uri": "https://localhost:8080/"
        },
        "id": "cAckjwFVs3Zl",
        "outputId": "ca4b2992-3245-48da-84a6-f4c7927a3d72"
      },
      "execution_count": 16,
      "outputs": [
        {
          "output_type": "execute_result",
          "data": {
            "text/plain": [
              "array([[1., 0., 0., 0.],\n",
              "       [0., 1., 0., 0.],\n",
              "       [0., 0., 1., 0.],\n",
              "       [0., 0., 0., 1.]])"
            ]
          },
          "metadata": {},
          "execution_count": 16
        }
      ]
    },
    {
      "cell_type": "markdown",
      "source": [
        "## Exercise 8 : Simple Aggregate Funcs"
      ],
      "metadata": {
        "id": "I9p19WXFqGBc"
      }
    },
    {
      "cell_type": "markdown",
      "source": [
        "Instructions Find the sum and average of a given 1D array.\n",
        "\n",
        "Expected Output:\n",
        "\n",
        "Sum: 45, Average: 4.5"
      ],
      "metadata": {
        "id": "wmf94W7xqK9p"
      }
    },
    {
      "cell_type": "code",
      "source": [
        "print(f'Sum: {arr3.sum()}, Average: {arr3.mean()}')"
      ],
      "metadata": {
        "colab": {
          "base_uri": "https://localhost:8080/"
        },
        "id": "uiFLvAR4tQ2e",
        "outputId": "5fab3cc7-5614-454b-a325-349e8ae52e25"
      },
      "execution_count": 18,
      "outputs": [
        {
          "output_type": "stream",
          "name": "stdout",
          "text": [
            "Sum: 45, Average: 4.5\n"
          ]
        }
      ]
    },
    {
      "cell_type": "markdown",
      "source": [
        "## Exercise 9 : Create Array And Change Its Structure"
      ],
      "metadata": {
        "id": "m3SeUpkoqPkT"
      }
    },
    {
      "cell_type": "markdown",
      "source": [
        "Instructions Create a NumPy array with elements from 1 to 20; then reshape it into a 4x5 matrix.\n",
        "\n",
        "Expected Output:\n",
        "\n",
        "array([[ 1, 2, 3, 4, 5], [ 6, 7, 8, 9, 10], [11, 12, 13, 14, 15], [16, 17, 18, 19, 20]])"
      ],
      "metadata": {
        "id": "o4JS-E3JqRnM"
      }
    },
    {
      "cell_type": "code",
      "source": [
        "arr4 = np.arange(1, 21)\n",
        "arr4.reshape(4, 5)"
      ],
      "metadata": {
        "colab": {
          "base_uri": "https://localhost:8080/"
        },
        "id": "leuBpDogte9Q",
        "outputId": "684425d2-3b01-40a1-8e4f-85202b94d058"
      },
      "execution_count": 19,
      "outputs": [
        {
          "output_type": "execute_result",
          "data": {
            "text/plain": [
              "array([[ 1,  2,  3,  4,  5],\n",
              "       [ 6,  7,  8,  9, 10],\n",
              "       [11, 12, 13, 14, 15],\n",
              "       [16, 17, 18, 19, 20]])"
            ]
          },
          "metadata": {},
          "execution_count": 19
        }
      ]
    },
    {
      "cell_type": "markdown",
      "source": [
        "## Exercise 10 : Conditional Selection Of Values"
      ],
      "metadata": {
        "id": "8tih-spBqXec"
      }
    },
    {
      "cell_type": "markdown",
      "source": [
        "Instructions\n",
        "Extract all odd numbers from a given NumPy array.\n",
        "\n",
        "Expected Output:\n",
        "\n",
        "\n",
        "\n",
        "array([1, 3, 5, 7, 9])\n"
      ],
      "metadata": {
        "id": "Jy03auIfo67f"
      }
    },
    {
      "cell_type": "code",
      "execution_count": 21,
      "metadata": {
        "colab": {
          "base_uri": "https://localhost:8080/"
        },
        "id": "GvzshR9Oo1Xz",
        "outputId": "606067a6-ceeb-4f7c-c001-c638f5341336"
      },
      "outputs": [
        {
          "output_type": "execute_result",
          "data": {
            "text/plain": [
              "array([1, 3, 5, 7, 9])"
            ]
          },
          "metadata": {},
          "execution_count": 21
        }
      ],
      "source": [
        "arr3[arr3 % 2 == 1]"
      ]
    }
  ]
}