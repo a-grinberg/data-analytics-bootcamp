{
  "nbformat": 4,
  "nbformat_minor": 0,
  "metadata": {
    "colab": {
      "provenance": []
    },
    "kernelspec": {
      "name": "python3",
      "display_name": "Python 3"
    },
    "language_info": {
      "name": "python"
    }
  },
  "cells": [
    {
      "cell_type": "markdown",
      "source": [
        "**Web Scraping:**\n",
        "\n",
        "- use this website : Github/topics\n",
        "- Write a Python script using the requests library to fetch the HTML content of the chosen website.\n",
        "- Print the status code of the response to ensure the request was successful using .status_code, it should be 200.\n",
        "- Print the first 100 characters of the HTML content to verify the response.\n",
        "- Save the HTML content to a file named webpage.html. Ensure you handle the text encoding correctly.\n",
        "- Use BeautifulSoup to parse the saved HTML content.\n",
        "- Identify two distinct pieces of information on the webpage to extract (e.g., titles of the topics and their descriptions).\n",
        "- Write code to extract these pieces of information. Ensure you identify the correct HTML tags and classes used for these elements on the webpage.\n",
        "- Print the length and content of each extracted list to verify the extraction process.\n",
        "- Create a Python dictionary to structure the extracted data, with keys representing the type of information (e.g., ‘title’ and ‘description’).\n",
        "- Convert this dictionary into a pandas DataFrame.\n",
        "- Print the DataFrame to confirm its structure and contents."
      ],
      "metadata": {
        "id": "GJfUD8gQigar"
      }
    },
    {
      "cell_type": "code",
      "execution_count": 1,
      "metadata": {
        "colab": {
          "base_uri": "https://localhost:8080/"
        },
        "id": "mz6fqhFRiJpr",
        "outputId": "1931ecc4-d2eb-44e3-b95d-2ae2cd5aa718"
      },
      "outputs": [
        {
          "output_type": "execute_result",
          "data": {
            "text/plain": [
              "200"
            ]
          },
          "metadata": {},
          "execution_count": 1
        }
      ],
      "source": [
        "import requests\n",
        "from bs4 import BeautifulSoup\n",
        "import pandas as pd\n",
        "\n",
        "url = 'https://github.com/topics'\n",
        "response = requests.get(url)\n",
        "response.status_code"
      ]
    },
    {
      "cell_type": "code",
      "source": [
        "print(response.text[:100])"
      ],
      "metadata": {
        "colab": {
          "base_uri": "https://localhost:8080/"
        },
        "id": "6CWrodNkjZBQ",
        "outputId": "1f0ddc47-2d5e-4a5b-beac-0eb8e0784c54"
      },
      "execution_count": 2,
      "outputs": [
        {
          "output_type": "stream",
          "name": "stdout",
          "text": [
            "\n",
            "\n",
            "<!DOCTYPE html>\n",
            "<html\n",
            "  lang=\"en\"\n",
            "  \n",
            "  data-color-mode=\"auto\" data-light-theme=\"light\" data-dark-t\n"
          ]
        }
      ]
    },
    {
      "cell_type": "code",
      "source": [
        "with open('webpage.html', 'w') as file:\n",
        "    file.write(response.text)"
      ],
      "metadata": {
        "id": "nfrkgXdCjhGP"
      },
      "execution_count": 3,
      "outputs": []
    },
    {
      "cell_type": "code",
      "source": [
        "soup = BeautifulSoup(response.text, 'html.parser')"
      ],
      "metadata": {
        "id": "Ua-JqVvVk_0q"
      },
      "execution_count": 4,
      "outputs": []
    },
    {
      "cell_type": "code",
      "source": [
        "title_tags = soup.find_all('p', {'class': 'f3 lh-condensed mb-0 mt-1 Link--primary'})\n",
        "description_tags = soup.find_all('p', {'class': 'f5 color-fg-muted mb-0 mt-1'})"
      ],
      "metadata": {
        "id": "CJ4su4nslVdL"
      },
      "execution_count": 8,
      "outputs": []
    },
    {
      "cell_type": "code",
      "source": [
        "print(len(title_tags))\n",
        "print(len(description_tags))"
      ],
      "metadata": {
        "colab": {
          "base_uri": "https://localhost:8080/"
        },
        "id": "rSFOB8n4l24A",
        "outputId": "98e14bf0-d8d9-43d9-8cb6-6ca2ec474ea8"
      },
      "execution_count": 9,
      "outputs": [
        {
          "output_type": "stream",
          "name": "stdout",
          "text": [
            "30\n",
            "30\n"
          ]
        }
      ]
    },
    {
      "cell_type": "code",
      "source": [
        "data = {\n",
        "    'title': [tag.text.strip() for tag in title_tags],\n",
        "    'description': [tag.text.strip() for tag in description_tags]\n",
        "}\n",
        "\n",
        "df = pd.DataFrame(data)\n",
        "print(df)"
      ],
      "metadata": {
        "colab": {
          "base_uri": "https://localhost:8080/"
        },
        "id": "x9BT5ORYmAiV",
        "outputId": "72ba4834-cd64-4ce8-bca3-69232112a551"
      },
      "execution_count": 10,
      "outputs": [
        {
          "output_type": "stream",
          "name": "stdout",
          "text": [
            "                     title                                        description\n",
            "0                       3D  3D refers to the use of three-dimensional grap...\n",
            "1                     Ajax  Ajax is a technique for creating interactive w...\n",
            "2                Algorithm  Algorithms are self-contained sequences that c...\n",
            "3                      Amp  Amp is a non-blocking concurrency library for ...\n",
            "4                  Android  Android is an operating system built by Google...\n",
            "5                  Angular  Angular is an open source web application plat...\n",
            "6                  Ansible  Ansible is a simple and powerful automation en...\n",
            "7                      API  An API (Application Programming Interface) is ...\n",
            "8                  Arduino  Arduino is an open source platform for buildin...\n",
            "9                  ASP.NET  ASP.NET is a web framework for building modern...\n",
            "10           Awesome Lists  An awesome list is a list of awesome things cu...\n",
            "11     Amazon Web Services  Amazon Web Services provides on-demand cloud c...\n",
            "12                   Azure  Azure is a cloud computing service created by ...\n",
            "13                   Babel  Babel is a compiler for writing next generatio...\n",
            "14                    Bash  Bash is a shell and command language interpret...\n",
            "15                 Bitcoin  Bitcoin is a cryptocurrency developed by Satos...\n",
            "16               Bootstrap  Bootstrap is an HTML, CSS, and JavaScript fram...\n",
            "17                     Bot  A bot is an application that runs automated ta...\n",
            "18                       C  C is a general purpose programming language th...\n",
            "19                  Chrome  Chrome is a web browser from the tech company ...\n",
            "20        Chrome extension  Chrome extensions enable users to customize th...\n",
            "21  Command-line interface  A CLI, or command-line interface, is a console...\n",
            "22                 Clojure  Clojure is a dynamic, general-purpose programm...\n",
            "23            Code quality  Automate your code review with style, quality,...\n",
            "24             Code review  Ensure your code meets quality standards and s...\n",
            "25                Compiler  Compilers are software that translate higher-l...\n",
            "26  Continuous integration  Automatically build and test your code as you ...\n",
            "27                     C++  C++ is a general purpose and object-oriented p...\n",
            "28          Cryptocurrency  A cryptocurrency is a digital currency that us...\n",
            "29                 Crystal  Crystal is a self-hosted, general purpose prog...\n"
          ]
        }
      ]
    }
  ]
}