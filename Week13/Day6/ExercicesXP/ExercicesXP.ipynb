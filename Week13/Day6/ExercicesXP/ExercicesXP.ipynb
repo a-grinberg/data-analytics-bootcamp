{
  "nbformat": 4,
  "nbformat_minor": 0,
  "metadata": {
    "colab": {
      "provenance": []
    },
    "kernelspec": {
      "name": "python3",
      "display_name": "Python 3"
    },
    "language_info": {
      "name": "python"
    }
  },
  "cells": [
    {
      "cell_type": "markdown",
      "source": [
        "## Exercise 1 : Defining the Problem and Data Collection for Loan Default Prediction\n",
        "Instructions\n",
        "\n",
        "- Write a clear problem statement for predicting loan defaults.\n",
        "- Identify and list the types of data you would need for this project (e.g., personal details of applicants, credit scores, loan amounts, repayment history).\n",
        "- Discuss the sources where you can collect this data (e.g., financial institution’s internal records, credit bureaus).\n",
        "\n",
        "**Expected Output:** A document detailing the problem statement and a comprehensive plan for data collection, including data types and sources."
      ],
      "metadata": {
        "id": "IVFMPQXrV-vo"
      }
    },
    {
      "cell_type": "markdown",
      "source": [
        "### Problem Statement\n",
        "\n",
        "The goal of this project is to develop a machine learning model that accurately predicts whether a loan applicant is likely to default on their loan. By identifying potential defaulters early, financial institutions can take proactive measures to mitigate risk, adjust loan terms, or deny applications to protect their assets. The model will be trained on historical data, leveraging various applicant attributes and loan details to produce predictions that will guide decision-making in the loan approval process.\n",
        "\n",
        "### Data Types Required:\n",
        "\n",
        "1. **Personal Details of Applicants:**\n",
        "   - **Demographics** - age, gender, marital Status, number of dependents, education Level\n",
        "   - **Employment Details:** - employment type, occupation, years of experience current employer\n",
        "   - **Contact Information:** - address, duration at current address\n",
        "\n",
        "2. **Financial Information:**\n",
        "   - **Income Details:** - sources of income, main monthly income, total income\n",
        "   - **Existing Liabilities:** - number and amount of existing loans, monthly debt obligations, credit utilization rate\n",
        "\n",
        "3.  **Loan Details:**\n",
        "   - **Loan Application Details:** - loan amount requested, purpose of loan (e.g., mortgage, car loan, personal loan), loan term, interest rate\n",
        "   - **Repayment History:** - payment timeliness, number of missed payments, days past due, recovery actions taken\n",
        "\n",
        "4. **Other Behavioral and Transactional Data:**\n",
        "   - **Account activity:** - account balance history, transaction frequency, number of accounts held\n",
        "   - **Loan application history:**- number of previous applications, rejection history, approval history\n",
        "\n",
        "### Data Sources:\n",
        "\n",
        "1. Financial Institution’s Internal Records\n",
        "2. Credit Bureaus\n",
        "3. Employment and Income Verification Services\n",
        "4. Government Databases\n",
        "5. Alternative Data Sources\n"
      ],
      "metadata": {
        "id": "IUUUfxpdR_JC"
      }
    },
    {
      "cell_type": "markdown",
      "source": [
        "## Exercise 2 : Feature Selection and Model Choice for Loan Default Prediction\n",
        "Instructions\n",
        "\n",
        "- From a given dataset (assume columns like age, income, loan amount, repayment history, credit score, etc.), identify which features might be most relevant for predicting loan defaults.\n",
        "- Justify your choice of features."
      ],
      "metadata": {
        "id": "r29xnNAeWPK3"
      }
    },
    {
      "cell_type": "markdown",
      "source": [
        "1. **Credit Score**: This is likely the most critical feature, as it directly reflects the creditworthiness of an individual. A low credit score generally indicates a higher risk of default.\n",
        "\n",
        "2. **Repayment History**: If someone has a history of late payments or defaults, they are more likely to default again.\n",
        "\n",
        "3. **Loan Amount**: Larger loans relative to income may indicate a higher likelihood of default due to the increased financial burden.\n",
        "\n",
        "4. **Income**: The applicant's income level can help assess their ability to repay the loan. Higher income typically reduces the risk of default.\n",
        "\n",
        "5. **Debt-to-Income Ratio**: This derived feature, which compares the applicant's total debt to their income, is crucial for understanding their financial health and ability to take on new debt.\n",
        "\n",
        "6. **Age**: Age can be relevant, as younger applicants might have less stable incomes, while older applicants may have more established financial histories.\n",
        "\n",
        "7. **Employment Status/History**: Stable employment can indicate a steady income stream, which reduces the likelihood of default.\n",
        "\n",
        "8. **Loan Term**: The length of the loan can also be a factor, as longer loan terms might correlate with a higher likelihood of default due to the extended financial commitment."
      ],
      "metadata": {
        "id": "F_duuxNBW1eH"
      }
    },
    {
      "cell_type": "markdown",
      "source": [
        "## Exercise 3 : Training, Evaluating, and Optimizing the Model\n",
        "Instructions\n",
        "\n",
        "Outline the steps to evaluate the model’s performance, mentioning specific metrics (like accuracy, precision, recall) that would be relevant for this problem."
      ],
      "metadata": {
        "id": "8BONRt-RXRlH"
      }
    },
    {
      "cell_type": "markdown",
      "source": [
        "To evaluate the model’s performance in predicting loan defaults, split the dataset into training, validation, and test sets. Start by assessing accuracy to get a general sense of model performance. However, given the importance of correctly identifying defaults, focus on precision (to minimize false positives) and recall (to minimize false negatives). The F1 score, which balances precision and recall, along with ROC-AUC, can provide insights into the model's discriminatory power. Use cross-validation for robustness, and adjust the decision threshold to optimize these metrics. Continuously monitor and adjust the model based on real-world performance."
      ],
      "metadata": {
        "id": "Sc_ipeESieAY"
      }
    },
    {
      "cell_type": "markdown",
      "source": [
        "## Exercise 4 : Designing Machine Learning Solutions for Specific Problems\n",
        "Instructions\n",
        "\n",
        "For each of these scenario, decide which type of machine learning would be most suitable. Explain.\n",
        "- Predicting Stock Prices : predict future prices\n",
        "- Organizing a Library of Books : group books into genres or categories based on similarities.\n",
        "- Program a robot to navigate and find the shortest path in a maze."
      ],
      "metadata": {
        "id": "M8-dYTvdgwkd"
      }
    },
    {
      "cell_type": "markdown",
      "source": [
        "1. **Predicting Stock Prices**:\n",
        "\n",
        "   **Supervised learning**, particularly regression models other time series forecasting methods are best suited for predicting future stock prices based on historical data.\n",
        "\n",
        "2. **Organizing a Library of Books**:\n",
        "\n",
        " **Unsupervised Learning**\n",
        "\n",
        "  Organizing books into genres or categories without predefined labels involves identifying natural groupings within the data. Clustering algorithms like K-means or Hierarchical Clustering can group books based on similarities in features such as content, keywords, or metadata.\n",
        "\n",
        "3. **Program a robot to navigate and find the shortest path in a maze**:\n",
        "\n",
        "  **Reinforcement Learning** is ideal for this scenario because it involves an agent (the robot) that must learn to make decisions (navigate) to achieve a goal (finding the shortest path). The robot learns by receiving rewards or penalties for its actions as it interacts with the environment."
      ],
      "metadata": {
        "id": "xrcyDsJReial"
      }
    },
    {
      "cell_type": "markdown",
      "source": [
        "## Exercise 5 : Designing an Evaluation Strategy for Different ML Models\n",
        "\n",
        "Instructions\n",
        "\n",
        "- Select three types of machine learning models: one from supervised learning (e.g., a classification model), one from unsupervised learning (e.g., a clustering model), and one from reinforcement learning. For the supervised model, outline a strategy to evaluate its performance, including the choice of metrics (like accuracy, precision, recall, F1-score) and methods (like cross-validation, ROC curves).\n",
        "- For the unsupervised model, describe how you would assess the effectiveness of the model, considering techniques like silhouette score, elbow method, or cluster validation metrics.\n",
        "- For the reinforcement learning model, discuss how you would measure its success, considering aspects like cumulative reward, convergence, and exploration vs. exploitation balance.\n",
        "- Address the challenges and limitations of evaluating models in each category."
      ],
      "metadata": {
        "id": "2RF4OtS2h0NI"
      }
    },
    {
      "cell_type": "markdown",
      "source": [
        "### 1. **Supervised Learning Model: Classification (e.g., Decision Tree)**\n",
        "   - **Evaluation Strategy**:\n",
        "     - **Metrics**:\n",
        "       - **Accuracy**: Measures the proportion of correctly classified instances.\n",
        "       - **Precision**: Assesses how many of the predicted positive instances are truly positive.\n",
        "       - **Recall**: Determines how many of the actual positive instances are correctly identified.\n",
        "       - **F1-Score**: The harmonic mean of precision and recall, providing a balance between them.\n",
        "     - **Methods**:\n",
        "       - **Cross-Validation**: Use k-fold cross-validation to evaluate the model on different subsets of the data, ensuring robustness and generalization.\n",
        "       - **ROC Curves and AUC**: Plot ROC curves to visualize the trade-off between true positive and false positive rates, and use the AUC (Area Under Curve) to summarize the model’s performance.\n",
        "   - **Challenges and Limitations**:\n",
        "     - **Imbalanced Datasets**: Accuracy may be misleading; precision and recall provide a clearer picture.\n",
        "     - **Overfitting**: Cross-validation helps mitigate overfitting, but tuning the model to avoid overfitting remains critical.\n",
        "\n",
        "### 2. **Unsupervised Learning Model: Clustering (e.g., K-Means)**\n",
        "   - **Evaluation Strategy**:\n",
        "     - **Metrics**:\n",
        "       - **Silhouette Score**: Measures how similar each point is to its own cluster compared to other clusters, indicating the quality of the clustering.\n",
        "       - **Elbow Method**: Plots the sum of squared distances between points and their cluster centroids to determine the optimal number of clusters. The \"elbow\" point suggests the ideal number of clusters.\n",
        "       - **Cluster Validation Metrics**: Such as Davies-Bouldin Index, which assesses the average similarity ratio of clusters, lower values indicate better clustering.\n",
        "     - **Methods**:\n",
        "       - **Visual Inspection**: Use scatter plots or heatmaps to visualize clusters, helping to assess how well the algorithm has grouped the data.\n",
        "       - **Cluster Stability**: Evaluate how consistent the clusters are across different runs or subsets of the data.\n",
        "   - **Challenges and Limitations**:\n",
        "     - **No Ground Truth**: Unlike supervised learning, there is no predefined label to compare against, making it harder to objectively assess the model.\n",
        "     - **Cluster Interpretability**: Determining the meaning and significance of clusters can be challenging.\n",
        "\n",
        "### 3. **Reinforcement Learning Model:**\n",
        "   - **Evaluation Strategy**:\n",
        "     - **Metrics**:\n",
        "       - **Cumulative Reward**: The total reward accumulated by the agent over time, reflecting the success of the learning process.\n",
        "       - **Convergence**: Evaluate how quickly and effectively the algorithm converges to an optimal policy.\n",
        "       - **Exploration vs. Exploitation Balance**: Ensure the model effectively balances exploring new actions and exploiting known profitable actions. This can be assessed by tracking how the agent's decisions evolve over time.\n",
        "     - **Methods**:\n",
        "       - **Episode Analysis**: Analyze the performance of the agent over multiple episodes, focusing on the trend of cumulative rewards.\n",
        "       - **Policy Evaluation**: Assess the policy learned by the agent and compare it against known optimal or suboptimal policies.\n",
        "   - **Challenges and Limitations**:\n",
        "     - **Complexity**: Reinforcement learning environments are often complex and can require significant computational resources.\n",
        "     - **Exploration Dilemma**: Balancing exploration and exploitation is difficult, especially in dynamic environments.\n",
        "     - **Delayed Rewards**: The agent may need to make several decisions before receiving a reward, complicating the learning process."
      ],
      "metadata": {
        "id": "HTOFvGWohFA1"
      }
    }
  ]
}